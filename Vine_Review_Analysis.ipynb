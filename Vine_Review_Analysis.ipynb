{
  "cells": [
    {
      "cell_type": "code",
      "execution_count": 1,
      "metadata": {
        "id": "34WTqgtgkVGW"
      },
      "outputs": [],
      "source": [
        "# Dependencies\n",
        "\n",
        "import pandas as pd\n",
        "import matplotlib.pyplot as plt"
      ]
    },
    {
      "cell_type": "code",
      "execution_count": 2,
      "metadata": {
        "colab": {
          "base_uri": "https://localhost:8080/",
          "height": 380
        },
        "id": "cY708oPekmKg",
        "outputId": "e56029b0-0b38-4a90-907f-7020e6139912"
      },
      "outputs": [
        {
          "data": {
            "text/html": [
              "<div>\n",
              "<style scoped>\n",
              "    .dataframe tbody tr th:only-of-type {\n",
              "        vertical-align: middle;\n",
              "    }\n",
              "\n",
              "    .dataframe tbody tr th {\n",
              "        vertical-align: top;\n",
              "    }\n",
              "\n",
              "    .dataframe thead th {\n",
              "        text-align: right;\n",
              "    }\n",
              "</style>\n",
              "<table border=\"1\" class=\"dataframe\">\n",
              "  <thead>\n",
              "    <tr style=\"text-align: right;\">\n",
              "      <th></th>\n",
              "      <th>review_id</th>\n",
              "      <th>star_rating</th>\n",
              "      <th>helpful_votes</th>\n",
              "      <th>total_votes</th>\n",
              "      <th>vine</th>\n",
              "      <th>verified_purchase</th>\n",
              "    </tr>\n",
              "  </thead>\n",
              "  <tbody>\n",
              "    <tr>\n",
              "      <th>0</th>\n",
              "      <td>R3DT59XH7HXR9K</td>\n",
              "      <td>5.0</td>\n",
              "      <td>0.0</td>\n",
              "      <td>0.0</td>\n",
              "      <td>N</td>\n",
              "      <td>Y</td>\n",
              "    </tr>\n",
              "    <tr>\n",
              "      <th>1</th>\n",
              "      <td>R1LFS11BNASSU8</td>\n",
              "      <td>5.0</td>\n",
              "      <td>0.0</td>\n",
              "      <td>1.0</td>\n",
              "      <td>N</td>\n",
              "      <td>Y</td>\n",
              "    </tr>\n",
              "    <tr>\n",
              "      <th>2</th>\n",
              "      <td>R296RT05AG0AF6</td>\n",
              "      <td>5.0</td>\n",
              "      <td>0.0</td>\n",
              "      <td>0.0</td>\n",
              "      <td>N</td>\n",
              "      <td>Y</td>\n",
              "    </tr>\n",
              "    <tr>\n",
              "      <th>3</th>\n",
              "      <td>R3V37XDZ7ZCI3L</td>\n",
              "      <td>5.0</td>\n",
              "      <td>0.0</td>\n",
              "      <td>1.0</td>\n",
              "      <td>N</td>\n",
              "      <td>Y</td>\n",
              "    </tr>\n",
              "    <tr>\n",
              "      <th>4</th>\n",
              "      <td>R14GU232NQFYX2</td>\n",
              "      <td>5.0</td>\n",
              "      <td>0.0</td>\n",
              "      <td>0.0</td>\n",
              "      <td>N</td>\n",
              "      <td>Y</td>\n",
              "    </tr>\n",
              "  </tbody>\n",
              "</table>\n",
              "</div>"
            ],
            "text/plain": [
              "        review_id  star_rating  helpful_votes  total_votes vine  \\\n",
              "0  R3DT59XH7HXR9K          5.0            0.0          0.0    N   \n",
              "1  R1LFS11BNASSU8          5.0            0.0          1.0    N   \n",
              "2  R296RT05AG0AF6          5.0            0.0          0.0    N   \n",
              "3  R3V37XDZ7ZCI3L          5.0            0.0          1.0    N   \n",
              "4  R14GU232NQFYX2          5.0            0.0          0.0    N   \n",
              "\n",
              "  verified_purchase  \n",
              "0                 Y  \n",
              "1                 Y  \n",
              "2                 Y  \n",
              "3                 Y  \n",
              "4                 Y  "
            ]
          },
          "execution_count": 2,
          "metadata": {},
          "output_type": "execute_result"
        }
      ],
      "source": [
        "# Import CSV file as a dataframe\n",
        "TABLE_PATH = 'vine_table.csv'\n",
        "\n",
        "vine_df = pd.read_csv(TABLE_PATH)\n",
        "\n",
        "vine_df.head()"
      ]
    },
    {
      "cell_type": "code",
      "execution_count": 4,
      "metadata": {
        "id": "M5wOc7Hukx_8"
      },
      "outputs": [
        {
          "data": {
            "text/plain": [
              "(9760932, 6)"
            ]
          },
          "execution_count": 4,
          "metadata": {},
          "output_type": "execute_result"
        }
      ],
      "source": [
        "# Check the data\n",
        "\n",
        "vine_df.shape\n",
        "\n",
        "#vine_df.info()"
      ]
    },
    {
      "cell_type": "markdown",
      "metadata": {
        "id": "v6oaJ-Puk8u8"
      },
      "source": [
        "Filter The Vine dataframe"
      ]
    },
    {
      "cell_type": "code",
      "execution_count": 5,
      "metadata": {
        "id": "pe6idgrRlAi8"
      },
      "outputs": [
        {
          "data": {
            "text/html": [
              "<div>\n",
              "<style scoped>\n",
              "    .dataframe tbody tr th:only-of-type {\n",
              "        vertical-align: middle;\n",
              "    }\n",
              "\n",
              "    .dataframe tbody tr th {\n",
              "        vertical-align: top;\n",
              "    }\n",
              "\n",
              "    .dataframe thead th {\n",
              "        text-align: right;\n",
              "    }\n",
              "</style>\n",
              "<table border=\"1\" class=\"dataframe\">\n",
              "  <thead>\n",
              "    <tr style=\"text-align: right;\">\n",
              "      <th></th>\n",
              "      <th>review_id</th>\n",
              "      <th>star_rating</th>\n",
              "      <th>helpful_votes</th>\n",
              "      <th>total_votes</th>\n",
              "      <th>vine</th>\n",
              "      <th>verified_purchase</th>\n",
              "    </tr>\n",
              "  </thead>\n",
              "  <tbody>\n",
              "    <tr>\n",
              "      <th>18</th>\n",
              "      <td>R28RB82UG4RDD5</td>\n",
              "      <td>5.0</td>\n",
              "      <td>20.0</td>\n",
              "      <td>20.0</td>\n",
              "      <td>N</td>\n",
              "      <td>Y</td>\n",
              "    </tr>\n",
              "    <tr>\n",
              "      <th>233</th>\n",
              "      <td>R3FB6BERWPEIJP</td>\n",
              "      <td>4.0</td>\n",
              "      <td>40.0</td>\n",
              "      <td>43.0</td>\n",
              "      <td>N</td>\n",
              "      <td>Y</td>\n",
              "    </tr>\n",
              "    <tr>\n",
              "      <th>615</th>\n",
              "      <td>R1D4Z38STRDQXK</td>\n",
              "      <td>5.0</td>\n",
              "      <td>53.0</td>\n",
              "      <td>56.0</td>\n",
              "      <td>N</td>\n",
              "      <td>Y</td>\n",
              "    </tr>\n",
              "    <tr>\n",
              "      <th>1065</th>\n",
              "      <td>R1XMWJZICINIFX</td>\n",
              "      <td>3.0</td>\n",
              "      <td>20.0</td>\n",
              "      <td>21.0</td>\n",
              "      <td>N</td>\n",
              "      <td>Y</td>\n",
              "    </tr>\n",
              "    <tr>\n",
              "      <th>1105</th>\n",
              "      <td>R20QKY1GABXFLM</td>\n",
              "      <td>1.0</td>\n",
              "      <td>272.0</td>\n",
              "      <td>297.0</td>\n",
              "      <td>N</td>\n",
              "      <td>Y</td>\n",
              "    </tr>\n",
              "  </tbody>\n",
              "</table>\n",
              "</div>"
            ],
            "text/plain": [
              "           review_id  star_rating  helpful_votes  total_votes vine  \\\n",
              "18    R28RB82UG4RDD5          5.0           20.0         20.0    N   \n",
              "233   R3FB6BERWPEIJP          4.0           40.0         43.0    N   \n",
              "615   R1D4Z38STRDQXK          5.0           53.0         56.0    N   \n",
              "1065  R1XMWJZICINIFX          3.0           20.0         21.0    N   \n",
              "1105  R20QKY1GABXFLM          1.0          272.0        297.0    N   \n",
              "\n",
              "     verified_purchase  \n",
              "18                   Y  \n",
              "233                  Y  \n",
              "615                  Y  \n",
              "1065                 Y  \n",
              "1105                 Y  "
            ]
          },
          "execution_count": 5,
          "metadata": {},
          "output_type": "execute_result"
        }
      ],
      "source": [
        "# Select products with more than 20 total ratings\n",
        "\n",
        "filtered_vine_df = vine_df[vine_df['total_votes'] >= 20]\n",
        "\n",
        "filtered_vine_df.head()"
      ]
    },
    {
      "cell_type": "code",
      "execution_count": 9,
      "metadata": {
        "id": "sl4Sf2UDlTNz"
      },
      "outputs": [
        {
          "data": {
            "text/html": [
              "<div>\n",
              "<style scoped>\n",
              "    .dataframe tbody tr th:only-of-type {\n",
              "        vertical-align: middle;\n",
              "    }\n",
              "\n",
              "    .dataframe tbody tr th {\n",
              "        vertical-align: top;\n",
              "    }\n",
              "\n",
              "    .dataframe thead th {\n",
              "        text-align: right;\n",
              "    }\n",
              "</style>\n",
              "<table border=\"1\" class=\"dataframe\">\n",
              "  <thead>\n",
              "    <tr style=\"text-align: right;\">\n",
              "      <th></th>\n",
              "      <th>review_id</th>\n",
              "      <th>star_rating</th>\n",
              "      <th>helpful_votes</th>\n",
              "      <th>total_votes</th>\n",
              "      <th>vine</th>\n",
              "      <th>verified_purchase</th>\n",
              "    </tr>\n",
              "  </thead>\n",
              "  <tbody>\n",
              "    <tr>\n",
              "      <th>18</th>\n",
              "      <td>R28RB82UG4RDD5</td>\n",
              "      <td>5.0</td>\n",
              "      <td>20.0</td>\n",
              "      <td>20.0</td>\n",
              "      <td>N</td>\n",
              "      <td>Y</td>\n",
              "    </tr>\n",
              "    <tr>\n",
              "      <th>233</th>\n",
              "      <td>R3FB6BERWPEIJP</td>\n",
              "      <td>4.0</td>\n",
              "      <td>40.0</td>\n",
              "      <td>43.0</td>\n",
              "      <td>N</td>\n",
              "      <td>Y</td>\n",
              "    </tr>\n",
              "    <tr>\n",
              "      <th>615</th>\n",
              "      <td>R1D4Z38STRDQXK</td>\n",
              "      <td>5.0</td>\n",
              "      <td>53.0</td>\n",
              "      <td>56.0</td>\n",
              "      <td>N</td>\n",
              "      <td>Y</td>\n",
              "    </tr>\n",
              "    <tr>\n",
              "      <th>1065</th>\n",
              "      <td>R1XMWJZICINIFX</td>\n",
              "      <td>3.0</td>\n",
              "      <td>20.0</td>\n",
              "      <td>21.0</td>\n",
              "      <td>N</td>\n",
              "      <td>Y</td>\n",
              "    </tr>\n",
              "    <tr>\n",
              "      <th>1105</th>\n",
              "      <td>R20QKY1GABXFLM</td>\n",
              "      <td>1.0</td>\n",
              "      <td>272.0</td>\n",
              "      <td>297.0</td>\n",
              "      <td>N</td>\n",
              "      <td>Y</td>\n",
              "    </tr>\n",
              "  </tbody>\n",
              "</table>\n",
              "</div>"
            ],
            "text/plain": [
              "           review_id  star_rating  helpful_votes  total_votes vine  \\\n",
              "18    R28RB82UG4RDD5          5.0           20.0         20.0    N   \n",
              "233   R3FB6BERWPEIJP          4.0           40.0         43.0    N   \n",
              "615   R1D4Z38STRDQXK          5.0           53.0         56.0    N   \n",
              "1065  R1XMWJZICINIFX          3.0           20.0         21.0    N   \n",
              "1105  R20QKY1GABXFLM          1.0          272.0        297.0    N   \n",
              "\n",
              "     verified_purchase  \n",
              "18                   Y  \n",
              "233                  Y  \n",
              "615                  Y  \n",
              "1065                 Y  \n",
              "1105                 Y  "
            ]
          },
          "execution_count": 9,
          "metadata": {},
          "output_type": "execute_result"
        }
      ],
      "source": [
        "# Find the rows where helpful_votes make up more than 50% of the toal_votes\n",
        "\n",
        "helpful_df = filtered_vine_df.loc[filtered_vine_df.helpful_votes / filtered_vine_df.total_votes >= 0.5]\n",
        "\n",
        "helpful_df.head()"
      ]
    },
    {
      "cell_type": "code",
      "execution_count": 10,
      "metadata": {
        "id": "cJNbccBVl_QC"
      },
      "outputs": [
        {
          "data": {
            "text/html": [
              "<div>\n",
              "<style scoped>\n",
              "    .dataframe tbody tr th:only-of-type {\n",
              "        vertical-align: middle;\n",
              "    }\n",
              "\n",
              "    .dataframe tbody tr th {\n",
              "        vertical-align: top;\n",
              "    }\n",
              "\n",
              "    .dataframe thead th {\n",
              "        text-align: right;\n",
              "    }\n",
              "</style>\n",
              "<table border=\"1\" class=\"dataframe\">\n",
              "  <thead>\n",
              "    <tr style=\"text-align: right;\">\n",
              "      <th></th>\n",
              "      <th>review_id</th>\n",
              "      <th>star_rating</th>\n",
              "      <th>helpful_votes</th>\n",
              "      <th>total_votes</th>\n",
              "      <th>vine</th>\n",
              "      <th>verified_purchase</th>\n",
              "    </tr>\n",
              "  </thead>\n",
              "  <tbody>\n",
              "    <tr>\n",
              "      <th>18</th>\n",
              "      <td>R28RB82UG4RDD5</td>\n",
              "      <td>5.0</td>\n",
              "      <td>20.0</td>\n",
              "      <td>20.0</td>\n",
              "      <td>N</td>\n",
              "      <td>Y</td>\n",
              "    </tr>\n",
              "    <tr>\n",
              "      <th>233</th>\n",
              "      <td>R3FB6BERWPEIJP</td>\n",
              "      <td>4.0</td>\n",
              "      <td>40.0</td>\n",
              "      <td>43.0</td>\n",
              "      <td>N</td>\n",
              "      <td>Y</td>\n",
              "    </tr>\n",
              "    <tr>\n",
              "      <th>615</th>\n",
              "      <td>R1D4Z38STRDQXK</td>\n",
              "      <td>5.0</td>\n",
              "      <td>53.0</td>\n",
              "      <td>56.0</td>\n",
              "      <td>N</td>\n",
              "      <td>Y</td>\n",
              "    </tr>\n",
              "    <tr>\n",
              "      <th>1065</th>\n",
              "      <td>R1XMWJZICINIFX</td>\n",
              "      <td>3.0</td>\n",
              "      <td>20.0</td>\n",
              "      <td>21.0</td>\n",
              "      <td>N</td>\n",
              "      <td>Y</td>\n",
              "    </tr>\n",
              "    <tr>\n",
              "      <th>1105</th>\n",
              "      <td>R20QKY1GABXFLM</td>\n",
              "      <td>1.0</td>\n",
              "      <td>272.0</td>\n",
              "      <td>297.0</td>\n",
              "      <td>N</td>\n",
              "      <td>Y</td>\n",
              "    </tr>\n",
              "  </tbody>\n",
              "</table>\n",
              "</div>"
            ],
            "text/plain": [
              "           review_id  star_rating  helpful_votes  total_votes vine  \\\n",
              "18    R28RB82UG4RDD5          5.0           20.0         20.0    N   \n",
              "233   R3FB6BERWPEIJP          4.0           40.0         43.0    N   \n",
              "615   R1D4Z38STRDQXK          5.0           53.0         56.0    N   \n",
              "1065  R1XMWJZICINIFX          3.0           20.0         21.0    N   \n",
              "1105  R20QKY1GABXFLM          1.0          272.0        297.0    N   \n",
              "\n",
              "     verified_purchase  \n",
              "18                   Y  \n",
              "233                  Y  \n",
              "615                  Y  \n",
              "1065                 Y  \n",
              "1105                 Y  "
            ]
          },
          "execution_count": 10,
          "metadata": {},
          "output_type": "execute_result"
        }
      ],
      "source": [
        "# Seperate the reviews based on if they are part of the Vine program (paid reviews vine  = Y, unpaid reviews vine = 'N'\n",
        "\n",
        "vine_reviews_df = helpful_df[helpful_df['vine'] == 'Y']\n",
        "not_vine_reviews_df = helpful_df[helpful_df['vine'] == 'N']\n",
        "\n",
        "vine_reviews_df.head()\n",
        "not_vine_reviews_df.head()"
      ]
    },
    {
      "cell_type": "code",
      "execution_count": 15,
      "metadata": {
        "id": "G8xKntlkm3pO"
      },
      "outputs": [
        {
          "name": "stdout",
          "output_type": "stream",
          "text": [
            "Total number of vine reviews: 2414\n",
            "Total number of not vine reviews: 195678\n",
            "Total number of reviews: 198092\n"
          ]
        }
      ],
      "source": [
        "# Determin total numbe of reviews vine vs not_vine\n",
        "\n",
        "vine_count = len(vine_reviews_df)\n",
        "not_vine_count = len(not_vine_reviews_df)\n",
        "\n",
        "print('Total number of vine reviews: {}'.format(vine_count))\n",
        "print('Total number of not vine reviews: {}'.format(not_vine_count))\n",
        "print('Total number of reviews: {}'.format(vine_count + not_vine_count))"
      ]
    },
    {
      "cell_type": "code",
      "execution_count": 20,
      "metadata": {},
      "outputs": [
        {
          "name": "stdout",
          "output_type": "stream",
          "text": [
            "Five star vine reviews: 1018\n",
            "Five star not vine reviews: 91716\n"
          ]
        }
      ],
      "source": [
        "# Count the Five Star rating for both subsets of reviews\n",
        "\n",
        "five_star_vine_count = len(vine_reviews_df[vine_reviews_df['star_rating'] == 5])\n",
        "five_star_vine_count\n",
        "\n",
        "five_star_not_vine_count = len(not_vine_reviews_df[not_vine_reviews_df['star_rating'] == 5])\n",
        "five_star_not_vine_count\n",
        "\n",
        "print('Five star vine reviews: {}'.format(five_star_vine_count))\n",
        "print('Five star not vine reviews: {}'.format(five_star_not_vine_count))"
      ]
    },
    {
      "cell_type": "code",
      "execution_count": 21,
      "metadata": {},
      "outputs": [
        {
          "name": "stdout",
          "output_type": "stream",
          "text": [
            "Percentage of vine reviews that are 5 star: 0.4217067108533554\n",
            "Percentage of not vine reviews that are 5 star: 0.46870879710544877\n"
          ]
        }
      ],
      "source": [
        "# Find the Percentage of reviews that are 5 star for each subset\n",
        "\n",
        "five_star_vine_percentage = five_star_vine_count / vine_count\n",
        "five_star_non_vine_percentage = five_star_not_vine_count / not_vine_count\n",
        "\n",
        "print('Percentage of vine reviews that are 5 star: {}'.format(five_star_vine_percentage))\n",
        "print('Percentage of not vine reviews that are 5 star: {}'.format(five_star_non_vine_percentage))"
      ]
    }
  ],
  "metadata": {
    "colab": {
      "collapsed_sections": [],
      "name": "Vine_Review_Analysis.ipynb",
      "provenance": []
    },
    "kernelspec": {
      "display_name": "Python 3.9.13 ('mlenv')",
      "language": "python",
      "name": "python3"
    },
    "language_info": {
      "codemirror_mode": {
        "name": "ipython",
        "version": 3
      },
      "file_extension": ".py",
      "mimetype": "text/x-python",
      "name": "python",
      "nbconvert_exporter": "python",
      "pygments_lexer": "ipython3",
      "version": "3.9.13"
    },
    "vscode": {
      "interpreter": {
        "hash": "16da5ebd74780a3e742c70b3fe64a587568cb88d914c1ab81d04094053f67c4e"
      }
    }
  },
  "nbformat": 4,
  "nbformat_minor": 0
}
